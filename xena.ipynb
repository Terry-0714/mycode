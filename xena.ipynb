{
 "cells": [
  {
   "cell_type": "code",
   "execution_count": 3,
   "id": "76b4b2d3",
   "metadata": {},
   "outputs": [
    {
     "name": "stdout",
     "output_type": "stream",
     "text": [
      "[-9.966, -2.826, -9.966]\n",
      "<class 'list'>\n"
     ]
    }
   ],
   "source": [
    "# Import necessary module\n",
    "import xenaPython as xena\n",
    "\n",
    "# Define the hub, dataset, and samples being used\n",
    "hub = \"https://toil.xenahubs.net\"\n",
    "dataset = \"tcga_RSEM_gene_tpm\"\n",
    "samples = xena.dataset_samples(hub, dataset, None) # 10535 samples in total\n",
    "\n",
    "# Cancel the comment \"#\" if you want to apply the filters below\n",
    "# samples = xena.dataset_samples(hub, dataset, 10)\n",
    "samples = [\"TCGA-02-0047-01\", \"TCGA-02-0055-01\", \"TCGA-02-2483-01\"]\n",
    "\n",
    "# Probe genes in Ensembl ID format\n",
    "probes = [\"ENSG00000282740.1\", 'ENSG00000000005.5']\n",
    "\n",
    "# Get probe values\n",
    "[position, [ENSG00000282740_1, ENSG00000000005_5]] = xena.dataset_probe_values(hub, dataset, samples, probes)\n",
    "\n",
    "# Print the result\n",
    "print(ENSG00000282740_1)\n",
    "print(type(ENSG00000282740_1)) # List"
   ]
  }
 ],
 "metadata": {
  "kernelspec": {
   "display_name": "hts_env",
   "language": "python",
   "name": "python3"
  },
  "language_info": {
   "codemirror_mode": {
    "name": "ipython",
    "version": 3
   },
   "file_extension": ".py",
   "mimetype": "text/x-python",
   "name": "python",
   "nbconvert_exporter": "python",
   "pygments_lexer": "ipython3",
   "version": "3.10.16"
  }
 },
 "nbformat": 4,
 "nbformat_minor": 5
}
