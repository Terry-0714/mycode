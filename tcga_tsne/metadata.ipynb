{
 "cells": [
  {
   "cell_type": "code",
   "execution_count": 1,
   "id": "e5db752e",
   "metadata": {},
   "outputs": [],
   "source": [
    "# Import necessary module\n",
    "import os\n",
    "\n",
    "# Define the function\n",
    "def find_folder(folder):\n",
    "    \"\"\" Find folders for each cancer \"\"\"\n",
    "    # Create a empty list to store folder data\n",
    "    cancer_folder = []\n",
    "    \n",
    "    # Walk across the file and folders in \"folder\"\n",
    "    for dir in os.listdir(folder):\n",
    "        cancer_folder.append(dir)\n",
    "        \n",
    "        # Remove .txt files in this list\n",
    "        if dir.endswith(\".txt\"):\n",
    "            cancer_folder.remove(dir)\n",
    "    \n",
    "    cancer_folder.remove(\"final_data\")\n",
    "    cancer_folder.remove(\"final_data.parquet\")\n",
    "    \n",
    "    if os.path.exists(os.path.join(folder, \"tcga_metadata.csv\")):\n",
    "        cancer_folder.remove(\"tcga_metadata.csv\")\n",
    "    \n",
    "    # Return this list for further utilization\n",
    "    return cancer_folder"
   ]
  },
  {
   "cell_type": "code",
   "execution_count": 2,
   "id": "2f5c5d97",
   "metadata": {},
   "outputs": [],
   "source": [
    "import os\n",
    "\n",
    "def acquire_lengths(cancer_folder, input_folder):\n",
    "    lengths = []\n",
    "    tsv_file = []\n",
    "    tsv_path = []\n",
    "    for folder in cancer_folder:\n",
    "        root_dir = os.path.join(input_folder, folder)\n",
    "        for dirpath, _, filenames in os.walk(root_dir):\n",
    "            for filename in filenames:\n",
    "                if filename.endswith(\".tsv\"):\n",
    "                    tsv_file.append(filename)\n",
    "                    tsv_path.append(filename)\n",
    "        lengths.append(len(tsv_file))\n",
    "        tsv_file = []            \n",
    "    \n",
    "    new_tsv_path = []\n",
    "    for path in tsv_path:\n",
    "        new_tsv_path.append(path.replace(\".tsv\", \"\"))\n",
    "    \n",
    "    return lengths, new_tsv_path\n",
    "                "
   ]
  },
  {
   "cell_type": "code",
   "execution_count": 3,
   "id": "238a9698",
   "metadata": {},
   "outputs": [],
   "source": [
    "def process_metadata(cancer_folder, lengths):\n",
    "    cancer_type = []\n",
    "    \n",
    "    for i, length_val in enumerate(lengths):\n",
    "        if i < len(cancer_folder):\n",
    "            cancer_type.extend([cancer_folder[i]] * length_val)\n",
    "    \n",
    "    return cancer_type        "
   ]
  },
  {
   "cell_type": "code",
   "execution_count": 4,
   "id": "e539f8e6",
   "metadata": {},
   "outputs": [
    {
     "name": "stdout",
     "output_type": "stream",
     "text": [
      "['9f7c8673-9fdf-4ec2-b4d1-fbd47a640d91.rna_seq.augmented_star_gene_counts', '33907c74-4c8c-4461-ad90-ecd1aa6221d5.rna_seq.augmented_star_gene_counts', '5ee1b32a-49cb-416e-8cf8-b3d9f05489a3.rna_seq.augmented_star_gene_counts', 'd44baabd-f7fa-402b-bda0-cf0669d157cc.rna_seq.augmented_star_gene_counts', 'a7ce5d99-7b58-4c06-b322-424a81a4a5c2.rna_seq.augmented_star_gene_counts', '7b260caf-8c8a-4d18-a3f6-eb22d3931339.rna_seq.augmented_star_gene_counts', '5bde2772-cadc-44cc-a05b-62f611aa07b5.rna_seq.augmented_star_gene_counts', '2afeb934-0f22-41b0-b00a-5576da364475.rna_seq.augmented_star_gene_counts', '425b5772-f511-4d65-b29f-f937c1fd9995.rna_seq.augmented_star_gene_counts', 'a563979a-36fe-4faf-97de-ecd02e5e342c.rna_seq.augmented_star_gene_counts', '42766493-7dff-4c09-821a-bd5952d95adc.rna_seq.augmented_star_gene_counts', '934a9544-1fd3-4aac-9e5c-90a266d1f125.rna_seq.augmented_star_gene_counts', '753c3c68-ccd8-4278-80a3-3829e0fd0d26.rna_seq.augmented_star_gene_counts', 'd5ed51f0-3df6-48a8-89d9-33f924ff8385.rna_seq.augmented_star_gene_counts', 'ed88c858-52d4-4895-a208-d4b4beeb2728.rna_seq.augmented_star_gene_counts', '6c1a0af0-9db0-410a-a1c0-0088f3a2eab1.rna_seq.augmented_star_gene_counts', 'ae83a2ed-c86a-4b1a-bec5-d477568f67b9.rna_seq.augmented_star_gene_counts', 'e00ee8dd-9800-4d70-9fc2-12d916b5c755.rna_seq.augmented_star_gene_counts', 'e83c8fef-42b5-4ec5-a7f2-4b1203f1081d.rna_seq.augmented_star_gene_counts', '23b036d0-a55f-4d73-9864-172dda56f56c.rna_seq.augmented_star_gene_counts', '47cc3847-ee12-425d-b0e6-37faa88c0e2a.rna_seq.augmented_star_gene_counts', 'bef0ce15-121b-4ecb-8b32-c7197ced0cfd.rna_seq.augmented_star_gene_counts', '1bb3709b-daab-406a-beeb-dcc901122915.rna_seq.augmented_star_gene_counts', '14c63b63-5caa-403f-b1ee-5abed47cac7c.rna_seq.augmented_star_gene_counts', 'fb122f84-966e-4967-9eb9-4172b2bb8111.rna_seq.augmented_star_gene_counts', '1c897838-071f-4911-bbb6-1b890f55d245.rna_seq.augmented_star_gene_counts', 'c8327148-7a96-4439-8f91-1f8e88834e2c.rna_seq.augmented_star_gene_counts', 'fb5068b6-7017-4a3b-a77b-3e7e5e675545.rna_seq.augmented_star_gene_counts', '203ee845-d377-4d92-aa27-127b634cc01c.rna_seq.augmented_star_gene_counts', '5c90921f-4e57-4c17-9742-4659645c448a.rna_seq.augmented_star_gene_counts', '3c8cf880-9778-400b-a69e-5b46b1b2d3c0.rna_seq.augmented_star_gene_counts', '35ce5873-2309-4b69-bcf9-eea0798479f4.rna_seq.augmented_star_gene_counts', '33baaa5b-c5cc-447a-9374-ad33072f5a5c.rna_seq.augmented_star_gene_counts', '90acb91b-4a18-4d6a-9f7c-927263da2fb5.rna_seq.augmented_star_gene_counts', '3f19686d-599d-41b7-9988-b849b0b1676b.rna_seq.augmented_star_gene_counts', 'c977120c-6084-4556-aebe-11b98b318e19.rna_seq.augmented_star_gene_counts', 'a8f7fe2a-21f9-4a6d-8395-400ab1e1ddf3.rna_seq.augmented_star_gene_counts', '39c0d08b-8281-409f-840d-6bd784aef96e.rna_seq.augmented_star_gene_counts', '33f18aa5-b713-4fbb-b818-678b9c7dacc8.rna_seq.augmented_star_gene_counts', 'ced14b3d-9760-4c1b-bd9d-da3fbef08819.rna_seq.augmented_star_gene_counts', '57a977d1-0829-40cb-99e6-3caf38a7c606.rna_seq.augmented_star_gene_counts', 'f53abc05-d0ed-46ce-9cb4-6d0ec4c62090.rna_seq.augmented_star_gene_counts', '4fb1ff85-66c2-43a4-ae99-552e879f72e6.rna_seq.augmented_star_gene_counts', 'f0e88c42-951e-4386-8a40-565e22938f57.rna_seq.augmented_star_gene_counts', 'a1fcd00b-a7ab-4c1a-b8f0-0284a1391f7c.rna_seq.augmented_star_gene_counts', 'f537b744-2a78-434e-91af-fccd98d1f4aa.rna_seq.augmented_star_gene_counts', '3237d131-6d8d-4646-a5f7-ad23c319f707.rna_seq.augmented_star_gene_counts', 'c7f6dc95-fe4a-4e0f-a7d1-e7e85e2c18fe.rna_seq.augmented_star_gene_counts', 'ee15f8f7-b15b-4f47-8a1b-6273f4c4a188.rna_seq.augmented_star_gene_counts', 'eefb7c54-5aa1-4c03-a671-9871d5275bf1.rna_seq.augmented_star_gene_counts']\n",
      "      cancer_type                                           filename\n",
      "0            blca  9f7c8673-9fdf-4ec2-b4d1-fbd47a640d91.rna_seq.a...\n",
      "1            blca  33907c74-4c8c-4461-ad90-ecd1aa6221d5.rna_seq.a...\n",
      "2            blca  5ee1b32a-49cb-416e-8cf8-b3d9f05489a3.rna_seq.a...\n",
      "3            blca  d44baabd-f7fa-402b-bda0-cf0669d157cc.rna_seq.a...\n",
      "4            blca  a7ce5d99-7b58-4c06-b322-424a81a4a5c2.rna_seq.a...\n",
      "...           ...                                                ...\n",
      "10754        sarc  1db3c803-8b6b-4ddf-82ef-96d538495293.rna_seq.a...\n",
      "10755        sarc  9072ce75-a6e8-424c-9633-68880fb5d441.rna_seq.a...\n",
      "10756        sarc  c0c6f9a6-ee2f-4d04-9021-8fbfbc94503f.rna_seq.a...\n",
      "10757        sarc  303b3d44-f71a-4c7a-bae9-1e2b5e875619.rna_seq.a...\n",
      "10758        sarc  59d4607e-766e-44bc-9af3-68f469b0bd4d.rna_seq.a...\n",
      "\n",
      "[10759 rows x 2 columns]\n",
      "Output completed.\n"
     ]
    }
   ],
   "source": [
    "input_folder = \"/home/terry_0714/tcga_cancer\"\n",
    "cancer_folder = find_folder(input_folder)\n",
    "lengths, new_tsv_path = acquire_lengths(cancer_folder, input_folder)\n",
    "print(repr(new_tsv_path[:50]))\n",
    "\n",
    "\"\"\"\n",
    "print(cancer_folder)\n",
    "print(lengths)\n",
    "\n",
    "total = 0\n",
    "for i in range(0, len(lengths)):\n",
    "    total += lengths[i]\n",
    "print(total)\n",
    "\"\"\"\n",
    "\n",
    "cancer_type = process_metadata(cancer_folder, lengths)\n",
    "\n",
    "import pandas as pd\n",
    "df = pd.DataFrame({\"cancer_type\": cancer_type, \"filename\": new_tsv_path})\n",
    "df.to_csv(\"/home/terry_0714/tcga_cancer/tcga_metadata.csv\",\n",
    "          index = False, quoting = 1, lineterminator = \"\\n\", escapechar = '\\\\')\n",
    "print(df)\n",
    "print(\"Output completed.\")"
   ]
  }
 ],
 "metadata": {
  "kernelspec": {
   "display_name": "hts_env",
   "language": "python",
   "name": "python3"
  },
  "language_info": {
   "codemirror_mode": {
    "name": "ipython",
    "version": 3
   },
   "file_extension": ".py",
   "mimetype": "text/x-python",
   "name": "python",
   "nbconvert_exporter": "python",
   "pygments_lexer": "ipython3",
   "version": "3.10.16"
  }
 },
 "nbformat": 4,
 "nbformat_minor": 5
}
