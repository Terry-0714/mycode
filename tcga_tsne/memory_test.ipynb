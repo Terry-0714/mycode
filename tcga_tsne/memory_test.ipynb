{
 "cells": [
  {
   "cell_type": "markdown",
   "id": "7c53df72",
   "metadata": {},
   "source": [
    "### Check the original dataframe and datatype"
   ]
  },
  {
   "cell_type": "code",
   "execution_count": 7,
   "id": "8d6c9724",
   "metadata": {},
   "outputs": [
    {
     "name": "stdout",
     "output_type": "stream",
     "text": [
      "shape: (5, 10_760)\n",
      "┌───────────┬───────────┬───────────┬───────────┬───┬───────────┬───────────┬───────────┬──────────┐\n",
      "│ 70c1d5c6- ┆ 8043614c- ┆ 126e4c65- ┆ 8faa741c- ┆ … ┆ 9a569eaa- ┆ bdb3ba48- ┆ 0934e9a4- ┆ __index_ │\n",
      "│ fb89-4b92 ┆ ce6a-42e2 ┆ dd29-4040 ┆ 2bd9-4114 ┆   ┆ 3147-493e ┆ 401d-4b25 ┆ f103-43e5 ┆ level_0_ │\n",
      "│ -abc3-c04 ┆ -b974-955 ┆ -a256-8d5 ┆ -adc6-65c ┆   ┆ -9fe4-134 ┆ -a15d-9a1 ┆ -9998-49a ┆ _        │\n",
      "│ 402…      ┆ 987…      ┆ f2f…      ┆ 8b0…      ┆   ┆ e5a…      ┆ 558…      ┆ 8a0…      ┆ ---      │\n",
      "│ ---       ┆ ---       ┆ ---       ┆ ---       ┆   ┆ ---       ┆ ---       ┆ ---       ┆ str      │\n",
      "│ f64       ┆ f64       ┆ f64       ┆ f64       ┆   ┆ f64       ┆ f64       ┆ f64       ┆          │\n",
      "╞═══════════╪═══════════╪═══════════╪═══════════╪═══╪═══════════╪═══════════╪═══════════╪══════════╡\n",
      "│ null      ┆ null      ┆ null      ┆ null      ┆ … ┆ null      ┆ null      ┆ null      ┆ ENSG0000 │\n",
      "│           ┆           ┆           ┆           ┆   ┆           ┆           ┆           ┆ 0000003  │\n",
      "│ 0.2031    ┆ 0.043     ┆ 0.1048    ┆ 0.3649    ┆ … ┆ 0.0       ┆ 0.0       ┆ 0.5975    ┆ ENSG0000 │\n",
      "│           ┆           ┆           ┆           ┆   ┆           ┆           ┆           ┆ 0000005  │\n",
      "│ 146.8395  ┆ 54.9047   ┆ 45.0498   ┆ 152.4447  ┆ … ┆ 112.1328  ┆ 172.5025  ┆ 83.0141   ┆ ENSG0000 │\n",
      "│           ┆           ┆           ┆           ┆   ┆           ┆           ┆           ┆ 0000419  │\n",
      "│ 5.3568    ┆ 1.3847    ┆ 0.659     ┆ 2.9931    ┆ … ┆ 6.2861    ┆ 7.5308    ┆ 7.3534    ┆ ENSG0000 │\n",
      "│           ┆           ┆           ┆           ┆   ┆           ┆           ┆           ┆ 0000457  │\n",
      "│ 5.8873    ┆ 0.4204    ┆ 0.259     ┆ 1.3871    ┆ … ┆ 4.498     ┆ 8.396     ┆ 4.1856    ┆ ENSG0000 │\n",
      "│           ┆           ┆           ┆           ┆   ┆           ┆           ┆           ┆ 0000460  │\n",
      "└───────────┴───────────┴───────────┴───────────┴───┴───────────┴───────────┴───────────┴──────────┘\n"
     ]
    }
   ],
   "source": [
    "import polars as pl\n",
    "\n",
    "df = pl.read_parquet(r\"/home/terry-liu/桌面/tcga_cancer/final_data.parquet\")\n",
    "print(df.head())"
   ]
  },
  {
   "cell_type": "markdown",
   "id": "d2771d01",
   "metadata": {},
   "source": [
    "### Let's see the original memory usage in GB if we don't assign the datatype."
   ]
  },
  {
   "cell_type": "code",
   "execution_count": 8,
   "id": "cd2c9d4f",
   "metadata": {},
   "outputs": [
    {
     "name": "stdout",
     "output_type": "stream",
     "text": [
      "0.44 MB memory per 5 rows.\n",
      "5.29 GB memory for the entire dataframe.\n"
     ]
    }
   ],
   "source": [
    "byte = df.head().estimated_size()\n",
    "print(f\"{round(byte * 10 ** (-6), 2)} MB memory per 5 rows.\")\n",
    "print(f\"{round(byte * 10 ** (-9) * (60000 / 5), 2)} GB memory for the entire dataframe.\")"
   ]
  },
  {
   "cell_type": "markdown",
   "id": "c0a91be5",
   "metadata": {},
   "source": [
    "### Change all f64 to f32 using \"with_columns\""
   ]
  },
  {
   "cell_type": "code",
   "execution_count": 9,
   "id": "ceebcacc",
   "metadata": {},
   "outputs": [
    {
     "name": "stdout",
     "output_type": "stream",
     "text": [
      "shape: (5, 10_760)\n",
      "┌───────────┬───────────┬───────────┬───────────┬───┬───────────┬───────────┬───────────┬──────────┐\n",
      "│ 70c1d5c6- ┆ 8043614c- ┆ 126e4c65- ┆ 8faa741c- ┆ … ┆ 9a569eaa- ┆ bdb3ba48- ┆ 0934e9a4- ┆ __index_ │\n",
      "│ fb89-4b92 ┆ ce6a-42e2 ┆ dd29-4040 ┆ 2bd9-4114 ┆   ┆ 3147-493e ┆ 401d-4b25 ┆ f103-43e5 ┆ level_0_ │\n",
      "│ -abc3-c04 ┆ -b974-955 ┆ -a256-8d5 ┆ -adc6-65c ┆   ┆ -9fe4-134 ┆ -a15d-9a1 ┆ -9998-49a ┆ _        │\n",
      "│ 402…      ┆ 987…      ┆ f2f…      ┆ 8b0…      ┆   ┆ e5a…      ┆ 558…      ┆ 8a0…      ┆ ---      │\n",
      "│ ---       ┆ ---       ┆ ---       ┆ ---       ┆   ┆ ---       ┆ ---       ┆ ---       ┆ str      │\n",
      "│ f32       ┆ f32       ┆ f32       ┆ f32       ┆   ┆ f32       ┆ f32       ┆ f32       ┆          │\n",
      "╞═══════════╪═══════════╪═══════════╪═══════════╪═══╪═══════════╪═══════════╪═══════════╪══════════╡\n",
      "│ null      ┆ null      ┆ null      ┆ null      ┆ … ┆ null      ┆ null      ┆ null      ┆ ENSG0000 │\n",
      "│           ┆           ┆           ┆           ┆   ┆           ┆           ┆           ┆ 0000003  │\n",
      "│ 0.2031    ┆ 0.043     ┆ 0.1048    ┆ 0.3649    ┆ … ┆ 0.0       ┆ 0.0       ┆ 0.5975    ┆ ENSG0000 │\n",
      "│           ┆           ┆           ┆           ┆   ┆           ┆           ┆           ┆ 0000005  │\n",
      "│ 146.83949 ┆ 54.904701 ┆ 45.049801 ┆ 152.44470 ┆ … ┆ 112.13279 ┆ 172.50250 ┆ 83.014099 ┆ ENSG0000 │\n",
      "│ 3         ┆           ┆           ┆ 2         ┆   ┆ 7         ┆ 2         ┆           ┆ 0000419  │\n",
      "│ 5.3568    ┆ 1.3847    ┆ 0.659     ┆ 2.9931    ┆ … ┆ 6.2861    ┆ 7.5308    ┆ 7.3534    ┆ ENSG0000 │\n",
      "│           ┆           ┆           ┆           ┆   ┆           ┆           ┆           ┆ 0000457  │\n",
      "│ 5.8873    ┆ 0.4204    ┆ 0.259     ┆ 1.3871    ┆ … ┆ 4.498     ┆ 8.396     ┆ 4.1856    ┆ ENSG0000 │\n",
      "│           ┆           ┆           ┆           ┆   ┆           ┆           ┆           ┆ 0000460  │\n",
      "└───────────┴───────────┴───────────┴───────────┴───┴───────────┴───────────┴───────────┴──────────┘\n"
     ]
    }
   ],
   "source": [
    "df_f32 = df.with_columns([\n",
    "    pl.col(name).cast(pl.Float32) if df.schema[name] == pl.Float64 else pl.col(name)\n",
    "    for name in df.columns\n",
    "])\n",
    "print(df_f32.head())"
   ]
  },
  {
   "cell_type": "markdown",
   "id": "162df933",
   "metadata": {},
   "source": [
    "### After the changes, the memory usage will significantly drop."
   ]
  },
  {
   "cell_type": "code",
   "execution_count": 11,
   "id": "60bad713",
   "metadata": {},
   "outputs": [
    {
     "name": "stdout",
     "output_type": "stream",
     "text": [
      "0.23 MB memory per 5 rows.\n",
      "2.71 GB memory for the entire dataframe.\n"
     ]
    }
   ],
   "source": [
    "byte_new = df_f32.head().estimated_size()\n",
    "print(f\"{round(byte_new * 10 ** (-6), 2)} MB memory per 5 rows.\")\n",
    "print(f\"{round(byte_new * 10 ** (-9) * (60000 / 5), 2)} GB memory for the entire dataframe.\")"
   ]
  }
 ],
 "metadata": {
  "kernelspec": {
   "display_name": "hts_env",
   "language": "python",
   "name": "python3"
  },
  "language_info": {
   "codemirror_mode": {
    "name": "ipython",
    "version": 3
   },
   "file_extension": ".py",
   "mimetype": "text/x-python",
   "name": "python",
   "nbconvert_exporter": "python",
   "pygments_lexer": "ipython3",
   "version": "3.10.16"
  }
 },
 "nbformat": 4,
 "nbformat_minor": 5
}
